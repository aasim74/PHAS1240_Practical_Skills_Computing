{
 "metadata": {
  "name": "",
  "signature": "sha256:f33ad47ea38f1d970d29be2004a42c0be15afa0f92f58ac8cf6021bb2071ca61"
 },
 "nbformat": 3,
 "nbformat_minor": 0,
 "worksheets": [
  {
   "cells": [
    {
     "cell_type": "markdown",
     "metadata": {},
     "source": [
      "# Session 6 task template"
     ]
    },
    {
     "cell_type": "markdown",
     "metadata": {},
     "source": [
      "This is a template for the session 6 Fourier Square Wave task. You can work either with an Ipython notebook (i.e. this file), or if you prefer, convert this template into a standalone code by using \"Download as... Python (.py)\" from the file menu or copying and pasting the code cells into Spyder.\n",
      "\n",
      "### Task summary:\n",
      "* You need to fill in the blanks where noted, and add comments, docstrings and/or text cells where appropriate.\n",
      "* The slider will control the number of terms in the Fourier series. Obviously, we can't continue up to an infinite number of terms, you will probably only need to go up to n ~ 25 to get a reasonably square waveform\n",
      "* You will need to build a loop structure to perform the summation, much as we did in Session 2 to calculate pi/4. Remember that the series is over odd values of n only.\n",
      "* You may want to test that your loop is working correctly (i.e. giving an increasingly \"square\" waveform as the number of terms is increased) before trying to use the slider to control the number of terms.\n",
      "* You'll also need to think about how the slider is displayed/defined. Here the number of terms in the series is always an integer, not a floating point number as in the phase slider."
     ]
    },
    {
     "cell_type": "markdown",
     "metadata": {},
     "source": [
      "This is a code to find the Fourier Series of n terms ranging from n=1 to a certain number of total n terms such as n=25, going up in two's. The summation of this series will then be used to plot the graph of a square wave, of the Fourier series with a variable slider for the n terms.\n",
      "\n",
      "By Aasim Patel 13/11/14"
     ]
    },
    {
     "cell_type": "markdown",
     "metadata": {},
     "source": [
      "First, we are going to import all the modules we are going to need to make it easier to extract functions from it. We are going to import the slider from matplotlib to use in the graph so that we can adjust the value of the total number of n terms. Since inline will not work in this code since it involves the slider, we have to use the 'qt' function to print the graph in a seperate interactive window. "
     ]
    },
    {
     "cell_type": "code",
     "collapsed": false,
     "input": [
      "import numpy as np\n",
      "import matplotlib.pyplot as plt\n",
      "from matplotlib.widgets import Slider\n",
      "%matplotlib qt"
     ],
     "language": "python",
     "metadata": {},
     "outputs": [],
     "prompt_number": 44
    },
    {
     "cell_type": "markdown",
     "metadata": {},
     "source": [
      "We are now going to define the Fourier series for the square wave and carry out a loop so that the summation takes place between a set values of n terms which will be determined by the slider in the graph."
     ]
    },
    {
     "cell_type": "code",
     "collapsed": false,
     "input": [
      "def fourier_sum(x,n_terms):\n",
      "    '''function that creates the Fourier series for square wave.\n",
      "    Inputs:\n",
      "    x: array of x values\n",
      "    nterms: number of terms to use\n",
      "    Returns:\n",
      "    fourier: array of y values for Fourier square wave\n",
      "    '''\n",
      "    fourier = 0 # initialize summation\n",
      "    n=1\n",
      "    value=0\n",
      "    while n<= n_terms:\n",
      "        summation = 1.0/n * np.sin(n*np.pi*x/L)\n",
      "        fourier = fourier + summation\n",
      "        n = n+2\n",
      "    #This calculates the fourier series summation for the values ranging from n=1 to n=25 going up in 2\n",
      "    fourier = 4.0/np.pi * fourier\n",
      "    return fourier  # return completed sum"
     ],
     "language": "python",
     "metadata": {},
     "outputs": [],
     "prompt_number": 75
    },
    {
     "cell_type": "markdown",
     "metadata": {},
     "source": [
      "Now we want the slider to change the n terms and the graph display. Therefore, we need to update the data used for the summation and the Fourier series every time the slider is changed. Therefore, the next code shows how this is done."
     ]
    },
    {
     "cell_type": "code",
     "collapsed": false,
     "input": [
      "def update_fourier(val):\n",
      "    n_terms = int(val)\n",
      "    y = fourier_sum(x,n_terms)\n",
      "    plt.line.set_ydata(y)\n",
      "    plt.draw()\n",
      "    #This gives the information about what happens when the slider is moved and how the data is updated in accordance to the slider"
     ],
     "language": "python",
     "metadata": {},
     "outputs": [],
     "prompt_number": 76
    },
    {
     "cell_type": "code",
     "collapsed": false,
     "input": [],
     "language": "python",
     "metadata": {},
     "outputs": [],
     "prompt_number": 79
    },
    {
     "cell_type": "code",
     "collapsed": false,
     "input": [
      "## Set up initial data\n",
      "n_terms = 1 # controlled by slider\n",
      "L = np.pi\n",
      "n=25\n",
      "#This shows the value of x and y on the axis of the graph\n",
      "x = np.linspace(0, 2*np.pi, 100)\n",
      "y = fourier_sum(x,n_terms)\n",
      "\"\"\"funtion which plots the y-axis of the graph for the fourier series square wave, from values in the range of x and total number n\"\"\"\n",
      "plt.xlabel(\"Value of n\")\n",
      "plt.ylabel(\"The Fourier Series summation value\")\n",
      "## Set up the initial plot\n",
      "ax = plt.subplot(111) # create new axes for 1 row, 1 column, plotnumber 1\n",
      "                  # This is the default axis\n",
      "plt.subplots_adjust(left=0.15, bottom=0.25) # make some more room at bottom and left\n",
      "\n",
      "plt.line, = plt.plot(x, y, linewidth=1, color='r') #nb use of comma\n",
      "### YOU NEED TO COMPLETE THE PLOT\n",
      "\n",
      "## define the sliders\n",
      "axcolor = 'lightgoldenrodyellow' # any color will do\n",
      "\n",
      "# add an axis (subplot) in the space we made using subplots_adjust\n",
      "ax_nterms = plt.axes([0.2, 0.1, 0.65, 0.03], axisbg=axcolor)\n",
      "# ...and put a slider in it\n",
      "\n",
      "### FIX THE FOLLOWING LINE: REPLACE THE ???\n",
      "slider_nterms = Slider(ax_nterms, 'Number of terms', 1, 25, valfmt=\"%0.0f\",valinit=np.pi/2.0)\n",
      "###\n",
      "\n",
      "\n",
      "# if the slider posn is changed, update k and recalculate\n",
      "slider_nterms.on_changed(update_fourier)\n",
      "\n",
      "plt.show()"
     ],
     "language": "python",
     "metadata": {},
     "outputs": [],
     "prompt_number": 80
    },
    {
     "cell_type": "code",
     "collapsed": false,
     "input": [],
     "language": "python",
     "metadata": {},
     "outputs": [],
     "prompt_number": 41
    },
    {
     "cell_type": "code",
     "collapsed": false,
     "input": [],
     "language": "python",
     "metadata": {},
     "outputs": []
    }
   ],
   "metadata": {}
  }
 ]
}