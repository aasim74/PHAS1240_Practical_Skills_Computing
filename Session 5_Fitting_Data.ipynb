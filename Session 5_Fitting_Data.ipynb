{
 "metadata": {
  "name": "",
  "signature": "sha256:57c5f80c4de8356a570f22b0a082315acb38606ba8a6465020725994a1a74fdd"
 },
 "nbformat": 3,
 "nbformat_minor": 0,
 "worksheets": [
  {
   "cells": [
    {
     "cell_type": "markdown",
     "metadata": {},
     "source": [
      "Aasim Patel 30/10/14\n",
      "\n",
      "This is a code to display a graph of the results from the 'Hall Effect Data' file which consists of two sets of results relating the change in voltages and current for a particular experiment (the experiment is not known). The data also contains the error of the voltage in the experiment which we also need to plot on the graph. This can be important to show how reliable the data obtained from the experiment is. This code inputs the data into the program and matplotlib is used to plot the data into a graph form to see the results visually. We can see compare the line of best fit to the actual points obtained from the results to see how well the relationship is and how reliable our data is."
     ]
    },
    {
     "cell_type": "markdown",
     "metadata": {},
     "source": [
      "First, we are going to import all the necessary files so that we find it easy to input some of the functions we are going to use."
     ]
    },
    {
     "cell_type": "code",
     "collapsed": false,
     "input": [
      "import numpy as np\n",
      "import matplotlib.pyplot as plt\n",
      "%matplotlib inline"
     ],
     "language": "python",
     "metadata": {},
     "outputs": [],
     "prompt_number": 1
    },
    {
     "cell_type": "markdown",
     "metadata": {},
     "source": [
      "Now, we are going to input our data and upload it into the program by extracting the file. This is doen using the np.loadtxt function with the delimiter = ',' because the data in the excel spreadsheet is divided using the delimiter as a comma. We are also going to extract the values for the current (xdata), the voltage (ydata) and the error in the voltages (yerror) and print these values."
     ]
    },
    {
     "cell_type": "code",
     "collapsed": false,
     "input": [
      "xdata, ydata, yerror = np.loadtxt(\"Hall_effect_data.csv\", delimiter = ',', unpack=True)\n",
      "print \"Current = \", xdata\n",
      "print \"Voltage = \", ydata\n",
      "print \"The y error is = \", yerror\n"
     ],
     "language": "python",
     "metadata": {},
     "outputs": [
      {
       "output_type": "stream",
       "stream": "stdout",
       "text": [
        "Current =  [  2.28  10.4   14.93  20.38  28.31  34.07  41.5   45.28]\n",
        "Voltage =  [ 0.0089  0.041   0.0583  0.0795  0.1093  0.1302  0.1565  0.1689]\n",
        "The y error is =  [ 0.0051   0.00511  0.00511  0.00511  0.00511  0.00511  0.00511  0.00511]\n"
       ]
      }
     ],
     "prompt_number": 2
    },
    {
     "cell_type": "markdown",
     "metadata": {},
     "source": [
      "Now that we have got the data, we are going to use matplotlib to plot the data as a graph. We are going to tell the program to label the x-axis as 'Current in Amps' by using plt.xlabel and we are also going to label the y-axis as 'Voltage in Volts' by using plt.ylabel function. I have enabled the grid using plt.grid so that it can be easier to approximate the x and y values from the graph. Error bars are also displayed to show the variance in the results for x and y and this can also be the basis for our reliability of the results."
     ]
    },
    {
     "cell_type": "code",
     "collapsed": false,
     "input": [
      "plt.plot(xdata, ydata, 'r.')\n",
      "plt.xlabel('Current (mA)' )\n",
      "plt.ylabel('Voltage (V)')\n",
      "plt.title('Graph to show current against voltage for the Hall Effect Experiment')\n",
      "plt.grid(True)\n",
      "plt.errorbar(xdata,ydata, yerr = yerror, fmt='bo',)"
     ],
     "language": "python",
     "metadata": {},
     "outputs": [
      {
       "metadata": {},
       "output_type": "pyout",
       "prompt_number": 89,
       "text": [
        "<Container object of 3 artists>"
       ]
      },
      {
       "metadata": {},
       "output_type": "display_data",
       "png": "[encoded data removed]",
       "text": [
        "<matplotlib.figure.Figure at 0x1075a588>"
       ]
      }
     ],
     "prompt_number": 89
    },
    {
     "cell_type": "markdown",
     "metadata": {},
     "source": [
      "The graph above shows the plotted points of the data with Current against Voltage, including the error bars for reliability judgements. We are now going to calculate the mean of the Current values (xdata) and the mean of the Voltage values (ydata). This can be used to find the gradient and the y-intercept of the line of best fit."
     ]
    },
    {
     "cell_type": "code",
     "collapsed": false,
     "input": [
      "mean_xdata = np.mean(xdata)\n",
      "print \"the mean of the Current is = \", mean_xdata, \"Amps\"\n",
      "mean_ydata = np.mean(ydata)\n",
      "print \"the mean of the Voltage is = \", mean_ydata, \"Volts\""
     ],
     "language": "python",
     "metadata": {},
     "outputs": [
      {
       "output_type": "stream",
       "stream": "stdout",
       "text": [
        "the mean of the Current is =  24.64375 Amps\n",
        "the mean of the Voltage is =  0.094075 Volts\n"
       ]
      }
     ],
     "prompt_number": 14
    },
    {
     "cell_type": "markdown",
     "metadata": {},
     "source": [
      "We calculated the actual value of m (gradient) and c (y-intercept) to create a graph with the line of best fit using the mean values we caluclated which are shown above."
     ]
    },
    {
     "cell_type": "code",
     "collapsed": false,
     "input": [
      "m = np.sum(xdata*(ydata-mean_ydata))/np.sum(xdata*(xdata-mean_xdata))\n",
      "print \"the value of m = \", m\n",
      "c = mean_ydata - (m*mean_xdata)\n",
      "print \"the value of c = \", c"
     ],
     "language": "python",
     "metadata": {},
     "outputs": [
      {
       "output_type": "stream",
       "stream": "stdout",
       "text": [
        "the value of m =  0.00372467017161\n",
        "the value of c =  0.00228515945841\n"
       ]
      }
     ],
     "prompt_number": 31
    },
    {
     "cell_type": "markdown",
     "metadata": {},
     "source": [
      "We can also calculate the values of d (ddata) and the D value from the equation 46 from the 'Data analysis Booklet 2014' and tell the programme to print the values."
     ]
    },
    {
     "cell_type": "code",
     "collapsed": false,
     "input": [
      "ddata = xdata - (m*ydata)\n",
      "print \"the d values are = \", ddata\n",
      "D = np.sum((xdata - mean_xdata)**2)\n",
      "print \"the value of D = \", D"
     ],
     "language": "python",
     "metadata": {},
     "outputs": [
      {
       "output_type": "stream",
       "stream": "stdout",
       "text": [
        "the d values are =  [  2.27996685  10.39984729  14.92978285  20.37970389  28.30959289\n",
        "  34.06951505  41.49941709  45.2793709 ]\n",
        "the value of D =  1627.8417875\n"
       ]
      }
     ],
     "prompt_number": 32
    },
    {
     "cell_type": "markdown",
     "metadata": {},
     "source": [
      "Now, we will calculate the standard errors in m and in c by using the formula listed in the 'Data Analysis Booklet' (formula 46 and 47). This is the error and reliability of m and c. The standard error for m, $\\Delta $m, and the standard error for c, $\\Delta$c, is shown."
     ]
    },
    {
     "cell_type": "code",
     "collapsed": false,
     "input": [
      "changeinm = np.sqrt((1/D)*(np.sum(ddata)**2/n-2))\n",
      "print \"the standard error in m, \u0394m = \", changeinm\n",
      "changeinc = np.sqrt(((1/n)+(mean_xdata**2/D))*(np.sum(ddata**2))/(n-2))\n",
      "print \"the standard error in c, \u0394c = \", changeinc"
     ],
     "language": "python",
     "metadata": {},
     "outputs": [
      {
       "output_type": "stream",
       "stream": "stdout",
       "text": [
        "the standard error in m, \u0394m =  0.725311825446\n",
        "the standard error in c, \u0394c =  7.69554749588\n"
       ]
      }
     ],
     "prompt_number": 76
    },
    {
     "cell_type": "markdown",
     "metadata": {},
     "source": [
      "Now, we will create a new array of x values to use to draw the line of best fit and put them into the equation using the m and c values we calculated. This will draw an accurate line of best fit which will be the closest to all the points obtained in  the data set."
     ]
    },
    {
     "cell_type": "code",
     "collapsed": false,
     "input": [
      "x = np.linspace(0, 50, 8)\n",
      "print \"the x values used = \", x\n",
      "y=m*x+c\n",
      "print \"the values of y used = \", y"
     ],
     "language": "python",
     "metadata": {},
     "outputs": [
      {
       "output_type": "stream",
       "stream": "stdout",
       "text": [
        "the x values used =  [  0.           7.14285714  14.28571429  21.42857143  28.57142857\n",
        "  35.71428571  42.85714286  50.        ]\n",
        "the values of y used =  [ 0.00228516  0.02888995  0.05549473  0.08209952  0.10870431  0.13530909\n",
        "  0.16191388  0.18851867]\n"
       ]
      }
     ],
     "prompt_number": 64
    },
    {
     "cell_type": "markdown",
     "metadata": {},
     "source": [
      "Now that we have got all the y values for the x values we had. We can now plot the graph of the line of best fit. The error bars of the actual data are also included so that we can see how accurate the line of best fit is drawn."
     ]
    },
    {
     "cell_type": "code",
     "collapsed": false,
     "input": [
      "plt.plot(x, y, 'g')\n",
      "plt.errorbar(xdata, ydata, yerr=yerror, ecolor = \"red\", fmt='bo')\n",
      "plt.xlabel('Current (mA)')\n",
      "plt.ylabel('Voltage (V)')\n",
      "plt.title('Graph showing the Current against Voltage for the Hall Effect Experiment')\n",
      "plt.grid(True)\n",
      "plt.text(30,0.02, \"y = {0:0.4f}x + {1:0.4f}\".format(m,c))"
     ],
     "language": "python",
     "metadata": {},
     "outputs": [
      {
       "metadata": {},
       "output_type": "pyout",
       "prompt_number": 88,
       "text": [
        "<matplotlib.text.Text at 0x1089c278>"
       ]
      },
      {
       "metadata": {},
       "output_type": "display_data",
       "png": "[encoded data removed]",
       "text": [
        "<matplotlib.figure.Figure at 0x10643780>"
       ]
      }
     ],
     "prompt_number": 88
    },
    {
     "cell_type": "code",
     "collapsed": false,
     "input": [],
     "language": "python",
     "metadata": {},
     "outputs": [],
     "prompt_number": 66
    },
    {
     "cell_type": "code",
     "collapsed": false,
     "input": [],
     "language": "python",
     "metadata": {},
     "outputs": []
    }
   ],
   "metadata": {}
  }
 ]
}