{
 "metadata": {
  "name": "",
  "signature": "sha256:9ffd2e60300a5807e8109b6696dcc02399e0bfe738125410777a25472d37b7e7"
 },
 "nbformat": 3,
 "nbformat_minor": 0,
 "worksheets": [
  {
   "cells": [
    {
     "cell_type": "code",
     "collapsed": false,
     "input": [
      "import numpy as np"
     ],
     "language": "python",
     "metadata": {},
     "outputs": [],
     "prompt_number": 1
    },
    {
     "cell_type": "code",
     "collapsed": false,
     "input": [
      "a = np.arange(0,11,5)\n",
      "print \"a list \",a"
     ],
     "language": "python",
     "metadata": {},
     "outputs": [
      {
       "output_type": "stream",
       "stream": "stdout",
       "text": [
        "a list  [ 0  5 10]\n"
       ]
      }
     ],
     "prompt_number": 2
    },
    {
     "cell_type": "code",
     "collapsed": false,
     "input": [
      "b = np.linspace(2.5,3.5,3)\n",
      "print \"b list \",b"
     ],
     "language": "python",
     "metadata": {},
     "outputs": [
      {
       "output_type": "stream",
       "stream": "stdout",
       "text": [
        "b list  [ 2.5  3.   3.5]\n"
       ]
      }
     ],
     "prompt_number": 3
    },
    {
     "cell_type": "code",
     "collapsed": false,
     "input": [
      "c = a*b\n",
      "print \"the product of arrays a and b is \", c"
     ],
     "language": "python",
     "metadata": {},
     "outputs": [
      {
       "output_type": "stream",
       "stream": "stdout",
       "text": [
        "the product of arrays a and b is  [  0.  15.  35.]\n"
       ]
      }
     ],
     "prompt_number": 6
    },
    {
     "cell_type": "code",
     "collapsed": false,
     "input": [
      "d = np.cross(a,b)\n",
      "print \"the cross product of a and b is \", d"
     ],
     "language": "python",
     "metadata": {},
     "outputs": [
      {
       "output_type": "stream",
       "stream": "stdout",
       "text": [
        "the cross product of a and b is  [-12.5  25.  -12.5]\n"
       ]
      }
     ],
     "prompt_number": 8
    },
    {
     "cell_type": "code",
     "collapsed": false,
     "input": [
      "e = np.dot(a,b)\n",
      "print \"the dot product of a and b is \" , e"
     ],
     "language": "python",
     "metadata": {},
     "outputs": [
      {
       "output_type": "stream",
       "stream": "stdout",
       "text": [
        "the dot product of a and b is  50.0\n"
       ]
      }
     ],
     "prompt_number": 9
    },
    {
     "cell_type": "code",
     "collapsed": false,
     "input": [
      "r = np.linspace(1, 5, 5)\n",
      "print r\n",
      "for n in r:\n",
      "    print \"n is \", n\n",
      "    print \"n*3 is \", n*3\n",
      "print \"Finished\""
     ],
     "language": "python",
     "metadata": {},
     "outputs": [
      {
       "output_type": "stream",
       "stream": "stdout",
       "text": [
        "[ 1.  2.  3.  4.  5.]\n",
        "n is  1.0\n",
        "n*3 is  3.0\n",
        "n is  2.0\n",
        "n*3 is  6.0\n",
        "n is  3.0\n",
        "n*3 is  9.0\n",
        "n is  4.0\n",
        "n*3 is  12.0\n",
        "n is  5.0\n",
        "n*3 is  15.0\n",
        "Finished\n"
       ]
      }
     ],
     "prompt_number": 10
    },
    {
     "cell_type": "markdown",
     "metadata": {},
     "source": [
      "The \"for\" loop works by using n values from 1 to 5 from \"r\" and cubing each n value for each of the r values from 1 to 5 then printing the values for n and $n^3$"
     ]
    },
    {
     "cell_type": "code",
     "collapsed": false,
     "input": [
      "data = np.loadtxt(\"session3data.txt\")\n",
      "print \"data = \" ,data"
     ],
     "language": "python",
     "metadata": {},
     "outputs": [
      {
       "output_type": "stream",
       "stream": "stdout",
       "text": [
        "data =  [ 18.02  18.55  18.94  18.99  19.5   19.71  19.61  19.4   19.41  19.26\n",
        "  18.88  18.71  18.42  17.84  17.01  16.86  16.27  15.58  15.25  15.04\n",
        "  25.68  24.62  23.4   21.96  20.65]\n"
       ]
      }
     ],
     "prompt_number": 16
    },
    {
     "cell_type": "code",
     "collapsed": false,
     "input": [
      "np.sin(data)"
     ],
     "language": "python",
     "metadata": {},
     "outputs": [
      {
       "metadata": {},
       "output_type": "pyout",
       "prompt_number": 17,
       "text": [
        "array([-0.7376316 , -0.29509593,  0.09032082,  0.13998283,  0.60553987,\n",
        "        0.75813222,  0.68924326,  0.52306577,  0.53156239,  0.39901656,\n",
        "        0.03043938, -0.13910337, -0.41646711, -0.84659557, -0.96410101,\n",
        "       -0.91359403, -0.53291073,  0.12761433,  0.44212217,  0.61938827,\n",
        "        0.5203483 , -0.4905678 , -0.98691556,  0.03114354,  0.97374664])"
       ]
      }
     ],
     "prompt_number": 17
    },
    {
     "cell_type": "markdown",
     "metadata": {},
     "source": [
      "The above funtion calculates ..."
     ]
    },
    {
     "cell_type": "code",
     "collapsed": false,
     "input": [
      "np.size(data)"
     ],
     "language": "python",
     "metadata": {},
     "outputs": [
      {
       "metadata": {},
       "output_type": "pyout",
       "prompt_number": 18,
       "text": [
        "25"
       ]
      }
     ],
     "prompt_number": 18
    },
    {
     "cell_type": "markdown",
     "metadata": {},
     "source": [
      "The above figure shows the number of components in the above data, n."
     ]
    },
    {
     "cell_type": "code",
     "collapsed": false,
     "input": [
      "len(data)"
     ],
     "language": "python",
     "metadata": {},
     "outputs": [
      {
       "metadata": {},
       "output_type": "pyout",
       "prompt_number": 19,
       "text": [
        "25"
       ]
      }
     ],
     "prompt_number": 19
    },
    {
     "cell_type": "raw",
     "metadata": {},
     "source": [
      "The above funtion..."
     ]
    },
    {
     "cell_type": "code",
     "collapsed": false,
     "input": [
      "np.max(data)"
     ],
     "language": "python",
     "metadata": {},
     "outputs": [
      {
       "metadata": {},
       "output_type": "pyout",
       "prompt_number": 20,
       "text": [
        "25.68"
       ]
      }
     ],
     "prompt_number": 20
    },
    {
     "cell_type": "markdown",
     "metadata": {},
     "source": [
      "The above finds the maximum value in the set of components"
     ]
    },
    {
     "cell_type": "code",
     "collapsed": false,
     "input": [
      "np.min(data)"
     ],
     "language": "python",
     "metadata": {},
     "outputs": [
      {
       "metadata": {},
       "output_type": "pyout",
       "prompt_number": 21,
       "text": [
        "15.039999999999999"
       ]
      }
     ],
     "prompt_number": 21
    },
    {
     "cell_type": "markdown",
     "metadata": {},
     "source": [
      "The above finds the minimum value in the set of components"
     ]
    },
    {
     "cell_type": "code",
     "collapsed": false,
     "input": [
      "np.sum(data)"
     ],
     "language": "python",
     "metadata": {},
     "outputs": [
      {
       "metadata": {},
       "output_type": "pyout",
       "prompt_number": 22,
       "text": [
        "477.55999999999989"
       ]
      }
     ],
     "prompt_number": 22
    },
    {
     "cell_type": "markdown",
     "metadata": {},
     "source": [
      "The above shows the sum of all the components in the data set"
     ]
    },
    {
     "cell_type": "code",
     "collapsed": false,
     "input": [
      "np.mean(data)"
     ],
     "language": "python",
     "metadata": {},
     "outputs": [
      {
       "metadata": {},
       "output_type": "pyout",
       "prompt_number": 23,
       "text": [
        "19.102399999999996"
       ]
      }
     ],
     "prompt_number": 23
    },
    {
     "cell_type": "markdown",
     "metadata": {},
     "source": [
      "The above finds the mean average of all the values in the data set"
     ]
    },
    {
     "cell_type": "code",
     "collapsed": false,
     "input": [
      "a = np.sum(data)\n",
      "b = np.size(data)\n",
      "mean = float(a/b)\n",
      "print \"the mean is \" ,mean"
     ],
     "language": "python",
     "metadata": {},
     "outputs": [
      {
       "output_type": "stream",
       "stream": "stdout",
       "text": [
        "the mean is  19.1024\n"
       ]
      }
     ],
     "prompt_number": 29
    },
    {
     "cell_type": "markdown",
     "metadata": {},
     "source": [
      "The above is the mean of the data set calculated using a different method instead of using np.sum(data)"
     ]
    },
    {
     "cell_type": "code",
     "collapsed": false,
     "input": [
      "np.sum(data[1:11])"
     ],
     "language": "python",
     "metadata": {},
     "outputs": [
      {
       "metadata": {},
       "output_type": "pyout",
       "prompt_number": 34,
       "text": [
        "192.24999999999997"
       ]
      }
     ],
     "prompt_number": 34
    },
    {
     "cell_type": "markdown",
     "metadata": {},
     "source": [
      "The above is the sum of the first 10 values in the data set"
     ]
    },
    {
     "cell_type": "code",
     "collapsed": false,
     "input": [],
     "language": "python",
     "metadata": {},
     "outputs": []
    }
   ],
   "metadata": {}
  }
 ]
}